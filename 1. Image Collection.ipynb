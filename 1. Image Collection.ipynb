{
 "cells": [
  {
   "cell_type": "markdown",
   "metadata": {},
   "source": [
    "# 1. Import Dependencies"
   ]
  },
  {
   "cell_type": "code",
   "execution_count": 2,
   "metadata": {},
   "outputs": [
    {
     "name": "stdout",
     "output_type": "stream",
     "text": [
      "Requirement already satisfied: opencv-python in f:\\deep learning cnn\\tensorflow\\tensorflowobjectdetection\\tfodcourse\\tfod\\lib\\site-packages (4.7.0.68)\n",
      "Requirement already satisfied: numpy>=1.17.3 in f:\\deep learning cnn\\tensorflow\\tensorflowobjectdetection\\tfodcourse\\tfod\\lib\\site-packages (from opencv-python) (1.24.1)\n"
     ]
    }
   ],
   "source": [
    "!pip install opencv-python"
   ]
  },
  {
   "cell_type": "code",
   "execution_count": 3,
   "metadata": {},
   "outputs": [],
   "source": [
    "# Import opencv\n",
    "import cv2 \n",
    "\n",
    "# Import uuid\n",
    "import uuid\n",
    "\n",
    "# Import Operating System\n",
    "import os\n",
    "\n",
    "# Import time\n",
    "import time"
   ]
  },
  {
   "cell_type": "markdown",
   "metadata": {},
   "source": [
    "# 2. Define Images to Collect"
   ]
  },
  {
   "cell_type": "code",
   "execution_count": 4,
   "metadata": {},
   "outputs": [],
   "source": [
    "labels = ['thumbsup', 'thumbsdown', 'thankyou', 'livelong']\n",
    "number_imgs = 5"
   ]
  },
  {
   "cell_type": "markdown",
   "metadata": {},
   "source": [
    "# 3. Setup Folders "
   ]
  },
  {
   "cell_type": "code",
   "execution_count": 5,
   "metadata": {},
   "outputs": [],
   "source": [
    "IMAGES_PATH = os.path.join('Tensorflow', 'workspace', 'images', 'collectedimages')"
   ]
  },
  {
   "cell_type": "code",
   "execution_count": 6,
   "metadata": {},
   "outputs": [],
   "source": [
    "if not os.path.exists(IMAGES_PATH):\n",
    "    if os.name == 'posix':\n",
    "        !mkdir -p {IMAGES_PATH}\n",
    "    if os.name == 'nt':\n",
    "         !mkdir {IMAGES_PATH}\n",
    "for label in labels:\n",
    "    path = os.path.join(IMAGES_PATH, label)\n",
    "    if not os.path.exists(path):\n",
    "        !mkdir {path}"
   ]
  },
  {
   "cell_type": "markdown",
   "metadata": {},
   "source": [
    "# 4. Capture Images"
   ]
  },
  {
   "cell_type": "code",
   "execution_count": 7,
   "metadata": {},
   "outputs": [
    {
     "name": "stdout",
     "output_type": "stream",
     "text": [
      "Collecting images for thumbsup\n",
      "Collecting image 0\n",
      "Collecting image 1\n",
      "Collecting image 2\n",
      "Collecting image 3\n",
      "Collecting image 4\n",
      "Collecting images for thumbsdown\n",
      "Collecting image 0\n",
      "Collecting image 1\n",
      "Collecting image 2\n",
      "Collecting image 3\n",
      "Collecting image 4\n",
      "Collecting images for thankyou\n",
      "Collecting image 0\n",
      "Collecting image 1\n",
      "Collecting image 2\n",
      "Collecting image 3\n",
      "Collecting image 4\n",
      "Collecting images for livelong\n",
      "Collecting image 0\n",
      "Collecting image 1\n",
      "Collecting image 2\n",
      "Collecting image 3\n",
      "Collecting image 4\n"
     ]
    }
   ],
   "source": [
    "for label in labels:\n",
    "    cap = cv2.VideoCapture(0)\n",
    "    print('Collecting images for {}'.format(label))\n",
    "    time.sleep(5)\n",
    "    for imgnum in range(number_imgs):\n",
    "        print('Collecting image {}'.format(imgnum))\n",
    "        ret, frame = cap.read()\n",
    "        imgname = os.path.join(IMAGES_PATH,label,label+'.'+'{}.jpg'.format(str(uuid.uuid1())))\n",
    "        cv2.imwrite(imgname, frame)\n",
    "        cv2.imshow('frame', frame)\n",
    "        time.sleep(2)\n",
    "\n",
    "        if cv2.waitKey(1) & 0xFF == ord('q'):\n",
    "            break\n",
    "cap.release()\n",
    "cv2.destroyAllWindows()"
   ]
  },
  {
   "cell_type": "markdown",
   "metadata": {},
   "source": [
    "# 5. Image Labelling"
   ]
  },
  {
   "cell_type": "code",
   "execution_count": 8,
   "metadata": {},
   "outputs": [
    {
     "name": "stdout",
     "output_type": "stream",
     "text": [
      "Collecting pyqt5\n",
      "  Using cached PyQt5-5.15.7-cp37-abi3-win_amd64.whl (6.8 MB)\n",
      "Collecting lxml\n",
      "  Downloading lxml-4.9.2-cp38-cp38-win_amd64.whl (3.9 MB)\n",
      "     ---------------------------------------- 3.9/3.9 MB 3.2 MB/s eta 0:00:00\n",
      "Collecting PyQt5-sip<13,>=12.11\n",
      "  Using cached PyQt5_sip-12.11.0-cp38-cp38-win_amd64.whl (78 kB)\n",
      "Collecting PyQt5-Qt5>=5.15.0\n",
      "  Using cached PyQt5_Qt5-5.15.2-py3-none-win_amd64.whl (50.1 MB)\n",
      "Installing collected packages: PyQt5-Qt5, PyQt5-sip, lxml, pyqt5\n",
      "Successfully installed PyQt5-Qt5-5.15.2 PyQt5-sip-12.11.0 lxml-4.9.2 pyqt5-5.15.7\n"
     ]
    }
   ],
   "source": [
    "!pip install --upgrade pyqt5 lxml"
   ]
  },
  {
   "cell_type": "code",
   "execution_count": 9,
   "metadata": {},
   "outputs": [],
   "source": [
    "LABELIMG_PATH = os.path.join('Tensorflow', 'labelimg')"
   ]
  },
  {
   "cell_type": "code",
   "execution_count": 10,
   "metadata": {},
   "outputs": [
    {
     "name": "stderr",
     "output_type": "stream",
     "text": [
      "Cloning into 'Tensorflow\\labelimg'...\n"
     ]
    }
   ],
   "source": [
    "if not os.path.exists(LABELIMG_PATH):\n",
    "    !mkdir {LABELIMG_PATH}\n",
    "    !git clone https://github.com/tzutalin/labelImg {LABELIMG_PATH}"
   ]
  },
  {
   "cell_type": "code",
   "execution_count": 11,
   "metadata": {},
   "outputs": [],
   "source": [
    "if os.name == 'posix':\n",
    "    !make qt5py3\n",
    "if os.name =='nt':\n",
    "    !cd {LABELIMG_PATH} && pyrcc5 -o libs/resources.py resources.qrc"
   ]
  },
  {
   "cell_type": "code",
   "execution_count": 12,
   "metadata": {},
   "outputs": [
    {
     "name": "stdout",
     "output_type": "stream",
     "text": [
      "Image:F:\\Deep Learning CNN\\TensorFlow\\TensorflowObjectDetection\\TFODCourse\\Tensorflow\\workspace\\images\\collectedimages\\livelong\\livelong.2f5048e7-8b73-11ed-b3e4-e4029b142da4.jpg -> Annotation:F:/Deep Learning CNN/TensorFlow/TensorflowObjectDetection/TFODCourse/Tensorflow/workspace/images/collectedimages/livelong\\livelong.2f5048e7-8b73-11ed-b3e4-e4029b142da4.xml\n",
      "Image:F:\\Deep Learning CNN\\TensorFlow\\TensorflowObjectDetection\\TFODCourse\\Tensorflow\\workspace\\images\\collectedimages\\livelong\\livelong.03af0298-8bed-11ed-bc47-e4029b142da4.jpg -> Annotation:F:/Deep Learning CNN/TensorFlow/TensorflowObjectDetection/TFODCourse/Tensorflow/workspace/images/collectedimages/livelong\\livelong.03af0298-8bed-11ed-bc47-e4029b142da4.xml\n",
      "Image:F:\\Deep Learning CNN\\TensorFlow\\TensorflowObjectDetection\\TFODCourse\\Tensorflow\\workspace\\images\\collectedimages\\livelong\\livelong.04ea08fd-8bed-11ed-8b83-e4029b142da4.jpg -> Annotation:F:/Deep Learning CNN/TensorFlow/TensorflowObjectDetection/TFODCourse/Tensorflow/workspace/images/collectedimages/livelong\\livelong.04ea08fd-8bed-11ed-8b83-e4029b142da4.xml\n",
      "Image:F:\\Deep Learning CNN\\TensorFlow\\TensorflowObjectDetection\\TFODCourse\\Tensorflow\\workspace\\images\\collectedimages\\livelong\\livelong.6ec66904-8b73-11ed-a02c-e4029b142da4.jpg -> Annotation:F:/Deep Learning CNN/TensorFlow/TensorflowObjectDetection/TFODCourse/Tensorflow/workspace/images/collectedimages/livelong\\livelong.6ec66904-8b73-11ed-a02c-e4029b142da4.xml\n",
      "Image:F:\\Deep Learning CNN\\TensorFlow\\TensorflowObjectDetection\\TFODCourse\\Tensorflow\\workspace\\images\\collectedimages\\livelong\\livelong.6ffda01f-8b73-11ed-8085-e4029b142da4.jpg -> Annotation:F:/Deep Learning CNN/TensorFlow/TensorflowObjectDetection/TFODCourse/Tensorflow/workspace/images/collectedimages/livelong\\livelong.6ffda01f-8b73-11ed-8085-e4029b142da4.xml\n",
      "Image:F:\\Deep Learning CNN\\TensorFlow\\TensorflowObjectDetection\\TFODCourse\\Tensorflow\\workspace\\images\\collectedimages\\livelong\\livelong.013e7dd5-8bed-11ed-93ad-e4029b142da4.jpg -> Annotation:F:/Deep Learning CNN/TensorFlow/TensorflowObjectDetection/TFODCourse/Tensorflow/workspace/images/collectedimages/livelong\\livelong.013e7dd5-8bed-11ed-93ad-e4029b142da4.xml\n",
      "Image:F:\\Deep Learning CNN\\TensorFlow\\TensorflowObjectDetection\\TFODCourse\\Tensorflow\\workspace\\images\\collectedimages\\livelong\\livelong.31bfe756-8b73-11ed-b7d3-e4029b142da4.jpg -> Annotation:F:/Deep Learning CNN/TensorFlow/TensorflowObjectDetection/TFODCourse/Tensorflow/workspace/images/collectedimages/livelong\\livelong.31bfe756-8b73-11ed-b7d3-e4029b142da4.xml\n",
      "Image:F:\\Deep Learning CNN\\TensorFlow\\TensorflowObjectDetection\\TFODCourse\\Tensorflow\\workspace\\images\\collectedimages\\livelong\\livelong.32f76c83-8b73-11ed-b013-e4029b142da4.jpg -> Annotation:F:/Deep Learning CNN/TensorFlow/TensorflowObjectDetection/TFODCourse/Tensorflow/workspace/images/collectedimages/livelong\\livelong.32f76c83-8b73-11ed-b013-e4029b142da4.xml\n",
      "Image:F:\\Deep Learning CNN\\TensorFlow\\TensorflowObjectDetection\\TFODCourse\\Tensorflow\\workspace\\images\\collectedimages\\livelong\\livelong.726f9336-8b73-11ed-a5a9-e4029b142da4.jpg -> Annotation:F:/Deep Learning CNN/TensorFlow/TensorflowObjectDetection/TFODCourse/Tensorflow/workspace/images/collectedimages/livelong\\livelong.726f9336-8b73-11ed-a5a9-e4029b142da4.xml\n",
      "Image:F:\\Deep Learning CNN\\TensorFlow\\TensorflowObjectDetection\\TFODCourse\\Tensorflow\\workspace\\images\\collectedimages\\livelong\\livelong.3087d032-8b73-11ed-963f-e4029b142da4.jpg -> Annotation:F:/Deep Learning CNN/TensorFlow/TensorflowObjectDetection/TFODCourse/Tensorflow/workspace/images/collectedimages/livelong\\livelong.3087d032-8b73-11ed-963f-e4029b142da4.xml\n",
      "Image:F:\\Deep Learning CNN\\TensorFlow\\TensorflowObjectDetection\\TFODCourse\\Tensorflow\\workspace\\images\\collectedimages\\livelong\\livelong.062388f6-8bed-11ed-b02b-e4029b142da4.jpg -> Annotation:F:/Deep Learning CNN/TensorFlow/TensorflowObjectDetection/TFODCourse/Tensorflow/workspace/images/collectedimages/livelong\\livelong.062388f6-8bed-11ed-b02b-e4029b142da4.xml\n",
      "Image:F:\\Deep Learning CNN\\TensorFlow\\TensorflowObjectDetection\\TFODCourse\\Tensorflow\\workspace\\images\\collectedimages\\livelong\\livelong.02724935-8bed-11ed-b4ea-e4029b142da4.jpg -> Annotation:F:/Deep Learning CNN/TensorFlow/TensorflowObjectDetection/TFODCourse/Tensorflow/workspace/images/collectedimages/livelong\\livelong.02724935-8bed-11ed-b4ea-e4029b142da4.xml\n",
      "Image:F:\\Deep Learning CNN\\TensorFlow\\TensorflowObjectDetection\\TFODCourse\\Tensorflow\\workspace\\images\\collectedimages\\livelong\\livelong.34301593-8b73-11ed-b9aa-e4029b142da4.jpg -> Annotation:F:/Deep Learning CNN/TensorFlow/TensorflowObjectDetection/TFODCourse/Tensorflow/workspace/images/collectedimages/livelong\\livelong.34301593-8b73-11ed-b9aa-e4029b142da4.xml\n",
      "Image:F:\\Deep Learning CNN\\TensorFlow\\TensorflowObjectDetection\\TFODCourse\\Tensorflow\\workspace\\images\\collectedimages\\livelong\\livelong.71368575-8b73-11ed-a9b9-e4029b142da4.jpg -> Annotation:F:/Deep Learning CNN/TensorFlow/TensorflowObjectDetection/TFODCourse/Tensorflow/workspace/images/collectedimages/livelong\\livelong.71368575-8b73-11ed-a9b9-e4029b142da4.xml\n",
      "Image:F:\\Deep Learning CNN\\TensorFlow\\TensorflowObjectDetection\\TFODCourse\\Tensorflow\\workspace\\images\\collectedimages\\thankyou\\thankyou.24f1ea19-8b73-11ed-9389-e4029b142da4.jpg -> Annotation:F:/Deep Learning CNN/TensorFlow/TensorflowObjectDetection/TFODCourse/Tensorflow/workspace/images/collectedimages/thankyou\\thankyou.24f1ea19-8b73-11ed-9389-e4029b142da4.xml\n",
      "Image:F:\\Deep Learning CNN\\TensorFlow\\TensorflowObjectDetection\\TFODCourse\\Tensorflow\\workspace\\images\\collectedimages\\thankyou\\thankyou.29d7e3af-8b73-11ed-9c8d-e4029b142da4.jpg -> Annotation:F:/Deep Learning CNN/TensorFlow/TensorflowObjectDetection/TFODCourse/Tensorflow/workspace/images/collectedimages/thankyou\\thankyou.29d7e3af-8b73-11ed-9c8d-e4029b142da4.xml\n",
      "Image:F:\\Deep Learning CNN\\TensorFlow\\TensorflowObjectDetection\\TFODCourse\\Tensorflow\\workspace\\images\\collectedimages\\thankyou\\thankyou.65a11573-8b73-11ed-a5c2-e4029b142da4.jpg -> Annotation:F:/Deep Learning CNN/TensorFlow/TensorflowObjectDetection/TFODCourse/Tensorflow/workspace/images/collectedimages/thankyou\\thankyou.65a11573-8b73-11ed-a5c2-e4029b142da4.xml\n",
      "Image:F:\\Deep Learning CNN\\TensorFlow\\TensorflowObjectDetection\\TFODCourse\\Tensorflow\\workspace\\images\\collectedimages\\thankyou\\thankyou.66dadb8c-8b73-11ed-a6d4-e4029b142da4.jpg -> Annotation:F:/Deep Learning CNN/TensorFlow/TensorflowObjectDetection/TFODCourse/Tensorflow/workspace/images/collectedimages/thankyou\\thankyou.66dadb8c-8b73-11ed-a6d4-e4029b142da4.xml\n",
      "Image:F:\\Deep Learning CNN\\TensorFlow\\TensorflowObjectDetection\\TFODCourse\\Tensorflow\\workspace\\images\\collectedimages\\thankyou\\thankyou.289ec521-8b73-11ed-985b-e4029b142da4.jpg -> Annotation:F:/Deep Learning CNN/TensorFlow/TensorflowObjectDetection/TFODCourse/Tensorflow/workspace/images/collectedimages/thankyou\\thankyou.289ec521-8b73-11ed-985b-e4029b142da4.xml\n",
      "Image:F:\\Deep Learning CNN\\TensorFlow\\TensorflowObjectDetection\\TFODCourse\\Tensorflow\\workspace\\images\\collectedimages\\thankyou\\thankyou.694b0bb3-8b73-11ed-8123-e4029b142da4.jpg -> Annotation:F:/Deep Learning CNN/TensorFlow/TensorflowObjectDetection/TFODCourse/Tensorflow/workspace/images/collectedimages/thankyou\\thankyou.694b0bb3-8b73-11ed-8123-e4029b142da4.xml\n",
      "Image:F:\\Deep Learning CNN\\TensorFlow\\TensorflowObjectDetection\\TFODCourse\\Tensorflow\\workspace\\images\\collectedimages\\thankyou\\thankyou.2629bb7c-8b73-11ed-8857-e4029b142da4.jpg -> Annotation:F:/Deep Learning CNN/TensorFlow/TensorflowObjectDetection/TFODCourse/Tensorflow/workspace/images/collectedimages/thankyou\\thankyou.2629bb7c-8b73-11ed-8857-e4029b142da4.xml\n",
      "Image:F:\\Deep Learning CNN\\TensorFlow\\TensorflowObjectDetection\\TFODCourse\\Tensorflow\\workspace\\images\\collectedimages\\thankyou\\thankyou.27635cf2-8b73-11ed-a0de-e4029b142da4.jpg -> Annotation:F:/Deep Learning CNN/TensorFlow/TensorflowObjectDetection/TFODCourse/Tensorflow/workspace/images/collectedimages/thankyou\\thankyou.27635cf2-8b73-11ed-a0de-e4029b142da4.xml\n",
      "Image:F:\\Deep Learning CNN\\TensorFlow\\TensorflowObjectDetection\\TFODCourse\\Tensorflow\\workspace\\images\\collectedimages\\thankyou\\thankyou.681197d2-8b73-11ed-adcb-e4029b142da4.jpg -> Annotation:F:/Deep Learning CNN/TensorFlow/TensorflowObjectDetection/TFODCourse/Tensorflow/workspace/images/collectedimages/thankyou\\thankyou.681197d2-8b73-11ed-adcb-e4029b142da4.xml\n",
      "Image:F:\\Deep Learning CNN\\TensorFlow\\TensorflowObjectDetection\\TFODCourse\\Tensorflow\\workspace\\images\\collectedimages\\thankyou\\thankyou.f6f295ec-8bec-11ed-b68f-e4029b142da4.jpg -> Annotation:F:/Deep Learning CNN/TensorFlow/TensorflowObjectDetection/TFODCourse/Tensorflow/workspace/images/collectedimages/thankyou\\thankyou.f6f295ec-8bec-11ed-b68f-e4029b142da4.xml\n",
      "Image:F:\\Deep Learning CNN\\TensorFlow\\TensorflowObjectDetection\\TFODCourse\\Tensorflow\\workspace\\images\\collectedimages\\thankyou\\thankyou.f96af85e-8bec-11ed-80f4-e4029b142da4.jpg -> Annotation:F:/Deep Learning CNN/TensorFlow/TensorflowObjectDetection/TFODCourse/Tensorflow/workspace/images/collectedimages/thankyou\\thankyou.f96af85e-8bec-11ed-80f4-e4029b142da4.xml\n",
      "Image:F:\\Deep Learning CNN\\TensorFlow\\TensorflowObjectDetection\\TFODCourse\\Tensorflow\\workspace\\images\\collectedimages\\thankyou\\thankyou.f83110f6-8bec-11ed-b637-e4029b142da4.jpg -> Annotation:F:/Deep Learning CNN/TensorFlow/TensorflowObjectDetection/TFODCourse/Tensorflow/workspace/images/collectedimages/thankyou\\thankyou.f83110f6-8bec-11ed-b637-e4029b142da4.xml\n",
      "Image:F:\\Deep Learning CNN\\TensorFlow\\TensorflowObjectDetection\\TFODCourse\\Tensorflow\\workspace\\images\\collectedimages\\thankyou\\thankyou.faa3dfd3-8bec-11ed-8af4-e4029b142da4.jpg -> Annotation:F:/Deep Learning CNN/TensorFlow/TensorflowObjectDetection/TFODCourse/Tensorflow/workspace/images/collectedimages/thankyou\\thankyou.faa3dfd3-8bec-11ed-8af4-e4029b142da4.xml\n",
      "Image:F:\\Deep Learning CNN\\TensorFlow\\TensorflowObjectDetection\\TFODCourse\\Tensorflow\\workspace\\images\\collectedimages\\thankyou\\thankyou.fbdba5c8-8bec-11ed-9662-e4029b142da4.jpg -> Annotation:F:/Deep Learning CNN/TensorFlow/TensorflowObjectDetection/TFODCourse/Tensorflow/workspace/images/collectedimages/thankyou\\thankyou.fbdba5c8-8bec-11ed-9662-e4029b142da4.xml\n",
      "Image:F:\\Deep Learning CNN\\TensorFlow\\TensorflowObjectDetection\\TFODCourse\\Tensorflow\\workspace\\images\\collectedimages\\thumbsdown\\thumbsdown.1aade2b5-8b73-11ed-bbb7-e4029b142da4.jpg -> Annotation:F:/Deep Learning CNN/TensorFlow/TensorflowObjectDetection/TFODCourse/Tensorflow/workspace/images/collectedimages/thumbsdown\\thumbsdown.1aade2b5-8b73-11ed-bbb7-e4029b142da4.xml\n",
      "Image:F:\\Deep Learning CNN\\TensorFlow\\TensorflowObjectDetection\\TFODCourse\\Tensorflow\\workspace\\images\\collectedimages\\thumbsdown\\thumbsdown.1be7efb2-8b73-11ed-abf5-e4029b142da4.jpg -> Annotation:F:/Deep Learning CNN/TensorFlow/TensorflowObjectDetection/TFODCourse/Tensorflow/workspace/images/collectedimages/thumbsdown\\thumbsdown.1be7efb2-8b73-11ed-abf5-e4029b142da4.xml\n",
      "Image:F:\\Deep Learning CNN\\TensorFlow\\TensorflowObjectDetection\\TFODCourse\\Tensorflow\\workspace\\images\\collectedimages\\thumbsdown\\thumbsdown.1e5366f5-8b73-11ed-9b23-e4029b142da4.jpg -> Annotation:F:/Deep Learning CNN/TensorFlow/TensorflowObjectDetection/TFODCourse/Tensorflow/workspace/images/collectedimages/thumbsdown\\thumbsdown.1e5366f5-8b73-11ed-9b23-e4029b142da4.xml\n",
      "Image:F:\\Deep Learning CNN\\TensorFlow\\TensorflowObjectDetection\\TFODCourse\\Tensorflow\\workspace\\images\\collectedimages\\thumbsdown\\thumbsdown.1f87c7ea-8b73-11ed-a9ca-e4029b142da4.jpg -> Annotation:F:/Deep Learning CNN/TensorFlow/TensorflowObjectDetection/TFODCourse/Tensorflow/workspace/images/collectedimages/thumbsdown\\thumbsdown.1f87c7ea-8b73-11ed-a9ca-e4029b142da4.xml\n",
      "Image:F:\\Deep Learning CNN\\TensorFlow\\TensorflowObjectDetection\\TFODCourse\\Tensorflow\\workspace\\images\\collectedimages\\thumbsdown\\thumbsdown.5c7f831a-8b73-11ed-a578-e4029b142da4.jpg -> Annotation:F:/Deep Learning CNN/TensorFlow/TensorflowObjectDetection/TFODCourse/Tensorflow/workspace/images/collectedimages/thumbsdown\\thumbsdown.5c7f831a-8b73-11ed-a578-e4029b142da4.xml\n",
      "Image:F:\\Deep Learning CNN\\TensorFlow\\TensorflowObjectDetection\\TFODCourse\\Tensorflow\\workspace\\images\\collectedimages\\thumbsdown\\thumbsdown.5db72df0-8b73-11ed-880b-e4029b142da4.jpg -> Annotation:F:/Deep Learning CNN/TensorFlow/TensorflowObjectDetection/TFODCourse/Tensorflow/workspace/images/collectedimages/thumbsdown\\thumbsdown.5db72df0-8b73-11ed-880b-e4029b142da4.xml\n",
      "Image:F:\\Deep Learning CNN\\TensorFlow\\TensorflowObjectDetection\\TFODCourse\\Tensorflow\\workspace\\images\\collectedimages\\thumbsdown\\thumbsdown.5eeceef9-8b73-11ed-8034-e4029b142da4.jpg -> Annotation:F:/Deep Learning CNN/TensorFlow/TensorflowObjectDetection/TFODCourse/Tensorflow/workspace/images/collectedimages/thumbsdown\\thumbsdown.5eeceef9-8b73-11ed-8034-e4029b142da4.xml\n",
      "Image:F:\\Deep Learning CNN\\TensorFlow\\TensorflowObjectDetection\\TFODCourse\\Tensorflow\\workspace\\images\\collectedimages\\thumbsdown\\thumbsdown.6024a180-8b73-11ed-940e-e4029b142da4.jpg -> Annotation:F:/Deep Learning CNN/TensorFlow/TensorflowObjectDetection/TFODCourse/Tensorflow/workspace/images/collectedimages/thumbsdown\\thumbsdown.6024a180-8b73-11ed-940e-e4029b142da4.xml\n",
      "Image:F:\\Deep Learning CNN\\TensorFlow\\TensorflowObjectDetection\\TFODCourse\\Tensorflow\\workspace\\images\\collectedimages\\thumbsdown\\thumbsdown.ec949bd7-8bec-11ed-a453-e4029b142da4.jpg -> Annotation:F:/Deep Learning CNN/TensorFlow/TensorflowObjectDetection/TFODCourse/Tensorflow/workspace/images/collectedimages/thumbsdown\\thumbsdown.ec949bd7-8bec-11ed-a453-e4029b142da4.xml\n",
      "Image:F:\\Deep Learning CNN\\TensorFlow\\TensorflowObjectDetection\\TFODCourse\\Tensorflow\\workspace\\images\\collectedimages\\thumbsdown\\thumbsdown.edd3b52f-8bec-11ed-a48b-e4029b142da4.jpg -> Annotation:F:/Deep Learning CNN/TensorFlow/TensorflowObjectDetection/TFODCourse/Tensorflow/workspace/images/collectedimages/thumbsdown\\thumbsdown.edd3b52f-8bec-11ed-a48b-e4029b142da4.xml\n",
      "Image:F:\\Deep Learning CNN\\TensorFlow\\TensorflowObjectDetection\\TFODCourse\\Tensorflow\\workspace\\images\\collectedimages\\thumbsdown\\thumbsdown.ef0a38c2-8bec-11ed-888b-e4029b142da4.jpg -> Annotation:F:/Deep Learning CNN/TensorFlow/TensorflowObjectDetection/TFODCourse/Tensorflow/workspace/images/collectedimages/thumbsdown\\thumbsdown.ef0a38c2-8bec-11ed-888b-e4029b142da4.xml\n",
      "Image:F:\\Deep Learning CNN\\TensorFlow\\TensorflowObjectDetection\\TFODCourse\\Tensorflow\\workspace\\images\\collectedimages\\thumbsdown\\thumbsdown.f044c8fe-8bec-11ed-8d6b-e4029b142da4.jpg -> Annotation:F:/Deep Learning CNN/TensorFlow/TensorflowObjectDetection/TFODCourse/Tensorflow/workspace/images/collectedimages/thumbsdown\\thumbsdown.f044c8fe-8bec-11ed-8d6b-e4029b142da4.xml\n",
      "Image:F:\\Deep Learning CNN\\TensorFlow\\TensorflowObjectDetection\\TFODCourse\\Tensorflow\\workspace\\images\\collectedimages\\thumbsdown\\thumbsdown.f1806c58-8bec-11ed-af15-e4029b142da4.jpg -> Annotation:F:/Deep Learning CNN/TensorFlow/TensorflowObjectDetection/TFODCourse/Tensorflow/workspace/images/collectedimages/thumbsdown\\thumbsdown.f1806c58-8bec-11ed-af15-e4029b142da4.xml\n",
      "Image:F:\\Deep Learning CNN\\TensorFlow\\TensorflowObjectDetection\\TFODCourse\\Tensorflow\\workspace\\images\\collectedimages\\thumbsup\\thumbsup.55cbcfce-8b73-11ed-a9b5-e4029b142da4.jpg -> Annotation:F:/Deep Learning CNN/TensorFlow/TensorflowObjectDetection/TFODCourse/Tensorflow/workspace/images/collectedimages/thumbsup\\thumbsup.55cbcfce-8b73-11ed-a9b5-e4029b142da4.xml\n",
      "Image:F:\\Deep Learning CNN\\TensorFlow\\TensorflowObjectDetection\\TFODCourse\\Tensorflow\\workspace\\images\\collectedimages\\thumbsup\\thumbsup.5358e1a4-8b73-11ed-915c-e4029b142da4.jpg -> Annotation:F:/Deep Learning CNN/TensorFlow/TensorflowObjectDetection/TFODCourse/Tensorflow/workspace/images/collectedimages/thumbsup\\thumbsup.5358e1a4-8b73-11ed-915c-e4029b142da4.xml\n",
      "Image:F:\\Deep Learning CNN\\TensorFlow\\TensorflowObjectDetection\\TFODCourse\\Tensorflow\\workspace\\images\\collectedimages\\thumbsup\\thumbsup.5704f7ee-8b73-11ed-8c0c-e4029b142da4.jpg -> Annotation:F:/Deep Learning CNN/TensorFlow/TensorflowObjectDetection/TFODCourse/Tensorflow/workspace/images/collectedimages/thumbsup\\thumbsup.5704f7ee-8b73-11ed-8c0c-e4029b142da4.xml\n",
      "Image:F:\\Deep Learning CNN\\TensorFlow\\TensorflowObjectDetection\\TFODCourse\\Tensorflow\\workspace\\images\\collectedimages\\thumbsup\\thumbsup.54934a6b-8b73-11ed-8f47-e4029b142da4.jpg -> Annotation:F:/Deep Learning CNN/TensorFlow/TensorflowObjectDetection/TFODCourse/Tensorflow/workspace/images/collectedimages/thumbsup\\thumbsup.54934a6b-8b73-11ed-8f47-e4029b142da4.xml\n",
      "Image:F:\\Deep Learning CNN\\TensorFlow\\TensorflowObjectDetection\\TFODCourse\\Tensorflow\\workspace\\images\\collectedimages\\thumbsup\\thumbsup.e4b920d0-8bec-11ed-9489-e4029b142da4.jpg -> Annotation:F:/Deep Learning CNN/TensorFlow/TensorflowObjectDetection/TFODCourse/Tensorflow/workspace/images/collectedimages/thumbsup\\thumbsup.e4b920d0-8bec-11ed-9489-e4029b142da4.xml\n",
      "Image:F:\\Deep Learning CNN\\TensorFlow\\TensorflowObjectDetection\\TFODCourse\\Tensorflow\\workspace\\images\\collectedimages\\thumbsup\\thumbsup.e5f1f312-8bec-11ed-b37f-e4029b142da4.jpg -> Annotation:F:/Deep Learning CNN/TensorFlow/TensorflowObjectDetection/TFODCourse/Tensorflow/workspace/images/collectedimages/thumbsup\\thumbsup.e5f1f312-8bec-11ed-b37f-e4029b142da4.xml\n",
      "Image:F:\\Deep Learning CNN\\TensorFlow\\TensorflowObjectDetection\\TFODCourse\\Tensorflow\\workspace\\images\\collectedimages\\thumbsup\\thumbsup.e72cdc2d-8bec-11ed-b5a1-e4029b142da4.jpg -> Annotation:F:/Deep Learning CNN/TensorFlow/TensorflowObjectDetection/TFODCourse/Tensorflow/workspace/images/collectedimages/thumbsup\\thumbsup.e72cdc2d-8bec-11ed-b5a1-e4029b142da4.xml\n",
      "Image:F:\\Deep Learning CNN\\TensorFlow\\TensorflowObjectDetection\\TFODCourse\\Tensorflow\\workspace\\images\\collectedimages\\thumbsup\\thumbsup.e240c118-8bec-11ed-81b9-e4029b142da4.jpg -> Annotation:F:/Deep Learning CNN/TensorFlow/TensorflowObjectDetection/TFODCourse/Tensorflow/workspace/images/collectedimages/thumbsup\\thumbsup.e240c118-8bec-11ed-81b9-e4029b142da4.xml\n",
      "Image:F:\\Deep Learning CNN\\TensorFlow\\TensorflowObjectDetection\\TFODCourse\\Tensorflow\\workspace\\images\\collectedimages\\thumbsup\\thumbsup.e3808033-8bec-11ed-a941-e4029b142da4.jpg -> Annotation:F:/Deep Learning CNN/TensorFlow/TensorflowObjectDetection/TFODCourse/Tensorflow/workspace/images/collectedimages/thumbsup\\thumbsup.e3808033-8bec-11ed-a941-e4029b142da4.xml\n"
     ]
    }
   ],
   "source": [
    "!cd {LABELIMG_PATH} && python labelImg.py"
   ]
  },
  {
   "cell_type": "markdown",
   "metadata": {},
   "source": [
    "# 6. Move them into a Training and Testing Partition"
   ]
  },
  {
   "cell_type": "markdown",
   "metadata": {},
   "source": [
    "# OPTIONAL - 7. Compress them for Colab Training"
   ]
  },
  {
   "cell_type": "code",
   "execution_count": 4,
   "metadata": {},
   "outputs": [],
   "source": [
    "TRAIN_PATH = os.path.join('Tensorflow', 'workspace', 'images', 'train')\n",
    "TEST_PATH = os.path.join('Tensorflow', 'workspace', 'images', 'test')\n",
    "ARCHIVE_PATH = os.path.join('Tensorflow', 'workspace', 'images', 'archive.tar.gz')"
   ]
  },
  {
   "cell_type": "code",
   "execution_count": 5,
   "metadata": {},
   "outputs": [],
   "source": [
    "!tar -czf {ARCHIVE_PATH} {TRAIN_PATH} {TEST_PATH}"
   ]
  },
  {
   "cell_type": "code",
   "execution_count": null,
   "metadata": {},
   "outputs": [],
   "source": []
  }
 ],
 "metadata": {
  "kernelspec": {
   "display_name": "tfodj",
   "language": "python",
   "name": "tfodj"
  },
  "language_info": {
   "codemirror_mode": {
    "name": "ipython",
    "version": 3
   },
   "file_extension": ".py",
   "mimetype": "text/x-python",
   "name": "python",
   "nbconvert_exporter": "python",
   "pygments_lexer": "ipython3",
   "version": "3.8.8"
  }
 },
 "nbformat": 4,
 "nbformat_minor": 2
}
